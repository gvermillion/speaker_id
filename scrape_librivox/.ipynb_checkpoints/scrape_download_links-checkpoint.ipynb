{
 "cells": [
  {
   "cell_type": "markdown",
   "metadata": {
    "toc": true
   },
   "source": [
    "<h1>Table of Contents<span class=\"tocSkip\"></span></h1>\n",
    "<div class=\"toc\"><ul class=\"toc-item\"><li><span><a href=\"#About\" data-toc-modified-id=\"About-1\"><span class=\"toc-item-num\">1&nbsp;&nbsp;</span>About</a></span></li><li><span><a href=\"#Setup\" data-toc-modified-id=\"Setup-2\"><span class=\"toc-item-num\">2&nbsp;&nbsp;</span>Setup</a></span><ul class=\"toc-item\"><li><span><a href=\"#Import\" data-toc-modified-id=\"Import-2.1\"><span class=\"toc-item-num\">2.1&nbsp;&nbsp;</span>Import</a></span></li><li><span><a href=\"#Initialization\" data-toc-modified-id=\"Initialization-2.2\"><span class=\"toc-item-num\">2.2&nbsp;&nbsp;</span>Initialization</a></span></li></ul></li><li><span><a href=\"#Get-Good-Book-Links\" data-toc-modified-id=\"Get-Good-Book-Links-3\"><span class=\"toc-item-num\">3&nbsp;&nbsp;</span>Get Good Book Links</a></span><ul class=\"toc-item\"><li><span><a href=\"#Save-Book-Links\" data-toc-modified-id=\"Save-Book-Links-3.1\"><span class=\"toc-item-num\">3.1&nbsp;&nbsp;</span>Save Book Links</a></span></li></ul></li><li><span><a href=\"#Extract-Download-Links\" data-toc-modified-id=\"Extract-Download-Links-4\"><span class=\"toc-item-num\">4&nbsp;&nbsp;</span>Extract Download Links</a></span><ul class=\"toc-item\"><li><span><a href=\"#Save-Download-Links\" data-toc-modified-id=\"Save-Download-Links-4.1\"><span class=\"toc-item-num\">4.1&nbsp;&nbsp;</span>Save Download Links</a></span></li></ul></li></ul></div>"
   ]
  },
  {
   "cell_type": "markdown",
   "metadata": {},
   "source": [
    "# About\n",
    "\n",
    "In the following, LibriVox is scraped for good data points. \n",
    "\n",
    "A good data point is defined as being a complete, solo project. Additionally, only one example per reader is desired.\n",
    "\n",
    "The result is a list of links to download"
   ]
  },
  {
   "cell_type": "markdown",
   "metadata": {},
   "source": [
    "# Setup\n",
    "## Import"
   ]
  },
  {
   "cell_type": "code",
   "execution_count": 1,
   "metadata": {},
   "outputs": [],
   "source": [
    "from selenium import webdriver\n",
    "from selenium.webdriver.support.ui import WebDriverWait\n",
    "from selenium.webdriver.support import expected_conditions as EC\n",
    "from selenium.webdriver.common.by import By\n",
    "from bs4 import BeautifulSoup\n",
    "import pickle as pkl"
   ]
  },
  {
   "cell_type": "markdown",
   "metadata": {},
   "source": [
    "## Initialization"
   ]
  },
  {
   "cell_type": "code",
   "execution_count": 2,
   "metadata": {},
   "outputs": [],
   "source": [
    "path_chromedriver = '/anaconda3/chromedriver'\n",
    "driver = webdriver.Chrome(path_chromedriver)\n",
    "book_links = [] # List of books to download\n",
    "search_url = (\"https://librivox.org/search?title=&author=&reader=&keywords=&genre_id=0&status=complete&project_type=solo&recorded_language=&sort_order=alpha&search_page={}&search_form=advanced\")\n",
    "no_pages = 322 # As of 10/06/2019"
   ]
  },
  {
   "cell_type": "markdown",
   "metadata": {},
   "source": [
    "# Get Good Book Links\n",
    "\n",
    "Scrape LibriVox for audiobooks that are complete and recorded using a single reader."
   ]
  },
  {
   "cell_type": "code",
   "execution_count": null,
   "metadata": {},
   "outputs": [
    {
     "name": "stdout",
     "output_type": "stream",
     "text": [
      "10 of 322\n",
      "20 of 322\n"
     ]
    }
   ],
   "source": [
    "for page in range(1,1+no_pages):\n",
    "    if page%10 == 0:\n",
    "        print('{} of {}'.format(page,no_pages))\n",
    "        \n",
    "    # Load page    \n",
    "    driver.get(search_url.format(page))\n",
    "\n",
    "    # Wait until search results have been loaded\n",
    "    results_loaded = EC.presence_of_element_located((By.CLASS_NAME , \"catalog-result\"))\n",
    "    element = WebDriverWait(driver,100).until(results_loaded)\n",
    "\n",
    "    # Soupify HTML\n",
    "    html_source = driver.page_source\n",
    "    soup = BeautifulSoup(html_source,'html.parser')\n",
    "\n",
    "    # Get results    \n",
    "    results_list = soup.find('ul', {'class': 'browse-list'})\n",
    "    results_links = results_list.find_all('li', {'class': 'catalog-result'})\n",
    "\n",
    "    # Extract relevant book links\n",
    "    for result in results_links:\n",
    "        # Extract relevant result info\n",
    "        result_data = result.find('div', {'class': 'result-data'})\n",
    "        book_meta = result_data.find('p', {'class': 'book-meta'})\n",
    "        link = result_data.a[\"href\"]\n",
    "\n",
    "        # Conditions for good datum\n",
    "        is_complete = str(book_meta).find(\"Complete\")\n",
    "        is_new = link not in book_links\n",
    "\n",
    "        if is_complete and is_new:\n",
    "                    book_links.append(link)\n",
    "\n",
    "driver.close()"
   ]
  },
  {
   "cell_type": "markdown",
   "metadata": {},
   "source": [
    "## Save Book Links"
   ]
  },
  {
   "cell_type": "code",
   "execution_count": null,
   "metadata": {},
   "outputs": [],
   "source": [
    "with open('book_links.pkl','wb') as fout:\n",
    "    pkl.dump(book_links,fout)"
   ]
  },
  {
   "cell_type": "markdown",
   "metadata": {},
   "source": [
    "# Extract Download Links"
   ]
  },
  {
   "cell_type": "code",
   "execution_count": null,
   "metadata": {},
   "outputs": [],
   "source": [
    "readers = []\n",
    "download_links = []\n",
    "sizes = []\n",
    "bad_links = []"
   ]
  },
  {
   "cell_type": "code",
   "execution_count": null,
   "metadata": {},
   "outputs": [],
   "source": [
    "driver = webdriver.Chrome(path_chromedriver)\n",
    "\n",
    "for i,link in enumerate(book_links):\n",
    "    if i%10 ==0:\n",
    "        print('{} of {}'.format(i,len(book_links)))\n",
    "        \n",
    "    driver.get(link)\n",
    "    html_source = driver.page_source\n",
    "    soup = BeautifulSoup(html_source,'html.parser')\n",
    "\n",
    "    download_button = soup.find('a',{'class':'book-download-btn'})\n",
    "    if download_button:\n",
    "        product_details = soup.find('dl', {'class': 'product-details clearfix'})\n",
    "        \n",
    "        if product_details != None:\n",
    "            product_details_list = product_details.find_all(\"dd\")\n",
    "            download_link = download_button['href']\n",
    "            reader = product_details_list[3].get_text()\n",
    "            size_mb = product_details_list[1].get_text()\n",
    "            try:\n",
    "                size_mb = float(size_mb[:-2])\n",
    "            except:\n",
    "                pass\n",
    "            \n",
    "        if reader not in readers:   \n",
    "            readers.append(reader)\n",
    "            sizes.append(size_mb)\n",
    "            download_links.append(download_link)\n",
    "    else:\n",
    "        if link not in bad_links:\n",
    "            bad_links.append(link)"
   ]
  },
  {
   "cell_type": "markdown",
   "metadata": {},
   "source": [
    "## Save Download Links"
   ]
  },
  {
   "cell_type": "code",
   "execution_count": null,
   "metadata": {},
   "outputs": [],
   "source": [
    "with open('download_links.pkl','wb') as fout:\n",
    "    pkl.dump(download_links,fout)\n",
    "    "
   ]
  },
  {
   "cell_type": "code",
   "execution_count": null,
   "metadata": {},
   "outputs": [],
   "source": []
  }
 ],
 "metadata": {
  "kernelspec": {
   "display_name": "Python 3",
   "language": "python",
   "name": "python3"
  },
  "language_info": {
   "codemirror_mode": {
    "name": "ipython",
    "version": 3
   },
   "file_extension": ".py",
   "mimetype": "text/x-python",
   "name": "python",
   "nbconvert_exporter": "python",
   "pygments_lexer": "ipython3",
   "version": "3.7.3"
  },
  "toc": {
   "base_numbering": 1,
   "nav_menu": {},
   "number_sections": true,
   "sideBar": true,
   "skip_h1_title": false,
   "title_cell": "Table of Contents",
   "title_sidebar": "Contents",
   "toc_cell": true,
   "toc_position": {
    "height": "calc(100% - 180px)",
    "left": "10px",
    "top": "150px",
    "width": "256px"
   },
   "toc_section_display": true,
   "toc_window_display": true
  }
 },
 "nbformat": 4,
 "nbformat_minor": 2
}
